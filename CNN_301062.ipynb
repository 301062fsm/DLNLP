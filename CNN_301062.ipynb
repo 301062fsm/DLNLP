{
 "cells": [
  {
   "cell_type": "code",
   "execution_count": 4,
   "id": "79ad438e",
   "metadata": {},
   "outputs": [],
   "source": [
    "import tensorflow as tf\n",
    "from keras.preprocessing.image import ImageDataGenerator"
   ]
  },
  {
   "cell_type": "code",
   "execution_count": 6,
   "id": "b7969b89",
   "metadata": {},
   "outputs": [
    {
     "data": {
      "text/plain": [
       "'2.9.1'"
      ]
     },
     "execution_count": 6,
     "metadata": {},
     "output_type": "execute_result"
    }
   ],
   "source": [
    "tf.__version__"
   ]
  },
  {
   "cell_type": "code",
   "execution_count": 7,
   "id": "f53f22d4",
   "metadata": {},
   "outputs": [
    {
     "name": "stdout",
     "output_type": "stream",
     "text": [
      "Found 8000 images belonging to 2 classes.\n"
     ]
    }
   ],
   "source": [
    "train_datagen = ImageDataGenerator(rescale = 1./255,\n",
    "                                   shear_range = 0.2,\n",
    "                                   zoom_range = 0.2,\n",
    "                                   horizontal_flip = True)\n",
    "training_set = train_datagen.flow_from_directory('C:\\\\Users\\\\Akansha Vashisth\\\\Downloads\\\\CNN Dataset\\\\training_set',\n",
    "                                                 target_size = (64, 64),\n",
    "                                                 batch_size = 32,\n",
    "                                                 class_mode = 'binary')"
   ]
  },
  {
   "cell_type": "code",
   "execution_count": 8,
   "id": "ca36d4eb",
   "metadata": {},
   "outputs": [
    {
     "name": "stdout",
     "output_type": "stream",
     "text": [
      "Found 8000 images belonging to 2 classes.\n"
     ]
    }
   ],
   "source": [
    "test_datagen = ImageDataGenerator(rescale = 1./255)\n",
    "test_set = test_datagen.flow_from_directory('C:\\\\Users\\\\Akansha Vashisth\\\\Downloads\\\\CNN Dataset\\\\training_set',\n",
    "                                            target_size = (64, 64),\n",
    "                                            batch_size = 32,\n",
    "                                            class_mode = 'binary')"
   ]
  },
  {
   "cell_type": "code",
   "execution_count": 9,
   "id": "4d9b1f91",
   "metadata": {},
   "outputs": [],
   "source": [
    "cnn = tf.keras.models.Sequential()"
   ]
  },
  {
   "cell_type": "code",
   "execution_count": 10,
   "id": "7f2892d9",
   "metadata": {},
   "outputs": [],
   "source": [
    "cnn.add(tf.keras.layers.Conv2D(filters=32, kernel_size=3, activation='relu', input_shape=[64, 64, 3]))"
   ]
  },
  {
   "cell_type": "code",
   "execution_count": 11,
   "id": "68943ff0",
   "metadata": {},
   "outputs": [],
   "source": [
    "cnn.add(tf.keras.layers.MaxPool2D(pool_size=2, strides=2))"
   ]
  },
  {
   "cell_type": "code",
   "execution_count": 12,
   "id": "d17dad7f",
   "metadata": {},
   "outputs": [],
   "source": [
    "cnn.add(tf.keras.layers.Conv2D(filters=32, kernel_size=3, activation='relu'))\n",
    "cnn.add(tf.keras.layers.MaxPool2D(pool_size=2, strides=2))"
   ]
  },
  {
   "cell_type": "code",
   "execution_count": 13,
   "id": "e3d48104",
   "metadata": {},
   "outputs": [],
   "source": [
    "cnn.add(tf.keras.layers.Flatten())"
   ]
  },
  {
   "cell_type": "code",
   "execution_count": 14,
   "id": "d24f8043",
   "metadata": {},
   "outputs": [],
   "source": [
    "cnn.add(tf.keras.layers.Dense(units=128, activation='relu'))"
   ]
  },
  {
   "cell_type": "code",
   "execution_count": 15,
   "id": "0a71313d",
   "metadata": {},
   "outputs": [],
   "source": [
    "cnn.add(tf.keras.layers.Dense(units=1, activation='sigmoid'))"
   ]
  },
  {
   "cell_type": "code",
   "execution_count": 16,
   "id": "869064ec",
   "metadata": {},
   "outputs": [],
   "source": [
    "cnn.compile(optimizer = 'adam', loss = 'binary_crossentropy', metrics = ['accuracy'])"
   ]
  },
  {
   "cell_type": "code",
   "execution_count": 17,
   "id": "dd6660f1",
   "metadata": {},
   "outputs": [
    {
     "name": "stdout",
     "output_type": "stream",
     "text": [
      "Epoch 1/25\n",
      "250/250 [==============================] - 85s 331ms/step - loss: 0.6906 - accuracy: 0.5385 - val_loss: 0.6317 - val_accuracy: 0.6494\n",
      "Epoch 2/25\n",
      "250/250 [==============================] - 52s 208ms/step - loss: 0.6332 - accuracy: 0.6415 - val_loss: 0.6358 - val_accuracy: 0.6420\n",
      "Epoch 3/25\n",
      "250/250 [==============================] - 55s 218ms/step - loss: 0.5750 - accuracy: 0.6994 - val_loss: 0.5184 - val_accuracy: 0.7460\n",
      "Epoch 4/25\n",
      "250/250 [==============================] - 77s 308ms/step - loss: 0.5383 - accuracy: 0.7295 - val_loss: 0.4894 - val_accuracy: 0.7615\n",
      "Epoch 5/25\n",
      "250/250 [==============================] - 68s 272ms/step - loss: 0.5198 - accuracy: 0.7419 - val_loss: 0.4836 - val_accuracy: 0.7676\n",
      "Epoch 6/25\n",
      "250/250 [==============================] - 76s 302ms/step - loss: 0.5025 - accuracy: 0.7539 - val_loss: 0.4471 - val_accuracy: 0.7977\n",
      "Epoch 7/25\n",
      "250/250 [==============================] - 61s 246ms/step - loss: 0.4868 - accuracy: 0.7629 - val_loss: 0.4359 - val_accuracy: 0.7977\n",
      "Epoch 8/25\n",
      "250/250 [==============================] - 60s 242ms/step - loss: 0.4689 - accuracy: 0.7749 - val_loss: 0.4320 - val_accuracy: 0.8034\n",
      "Epoch 9/25\n",
      "250/250 [==============================] - 56s 226ms/step - loss: 0.4605 - accuracy: 0.7815 - val_loss: 0.4415 - val_accuracy: 0.7933\n",
      "Epoch 10/25\n",
      "250/250 [==============================] - 59s 237ms/step - loss: 0.4445 - accuracy: 0.7912 - val_loss: 0.4298 - val_accuracy: 0.7962\n",
      "Epoch 11/25\n",
      "250/250 [==============================] - 54s 215ms/step - loss: 0.4402 - accuracy: 0.7908 - val_loss: 0.3991 - val_accuracy: 0.8167\n",
      "Epoch 12/25\n",
      "250/250 [==============================] - 57s 228ms/step - loss: 0.4264 - accuracy: 0.8048 - val_loss: 0.3931 - val_accuracy: 0.8210\n",
      "Epoch 13/25\n",
      "250/250 [==============================] - 47s 188ms/step - loss: 0.4166 - accuracy: 0.8098 - val_loss: 0.3669 - val_accuracy: 0.8328\n",
      "Epoch 14/25\n",
      "250/250 [==============================] - 46s 183ms/step - loss: 0.4113 - accuracy: 0.8115 - val_loss: 0.3775 - val_accuracy: 0.8282\n",
      "Epoch 15/25\n",
      "250/250 [==============================] - 48s 191ms/step - loss: 0.3914 - accuracy: 0.8177 - val_loss: 0.3689 - val_accuracy: 0.8386\n",
      "Epoch 16/25\n",
      "250/250 [==============================] - 53s 211ms/step - loss: 0.3840 - accuracy: 0.8211 - val_loss: 0.3298 - val_accuracy: 0.8520\n",
      "Epoch 17/25\n",
      "250/250 [==============================] - 48s 194ms/step - loss: 0.3723 - accuracy: 0.8353 - val_loss: 0.3356 - val_accuracy: 0.8520\n",
      "Epoch 18/25\n",
      "250/250 [==============================] - 49s 195ms/step - loss: 0.3743 - accuracy: 0.8299 - val_loss: 0.3245 - val_accuracy: 0.8547\n",
      "Epoch 19/25\n",
      "250/250 [==============================] - 48s 192ms/step - loss: 0.3733 - accuracy: 0.8340 - val_loss: 0.3395 - val_accuracy: 0.8471\n",
      "Epoch 20/25\n",
      "250/250 [==============================] - 70s 280ms/step - loss: 0.3689 - accuracy: 0.8355 - val_loss: 0.3132 - val_accuracy: 0.8631\n",
      "Epoch 21/25\n",
      "250/250 [==============================] - 59s 235ms/step - loss: 0.3561 - accuracy: 0.8384 - val_loss: 0.2965 - val_accuracy: 0.8749\n",
      "Epoch 22/25\n",
      "250/250 [==============================] - 67s 270ms/step - loss: 0.3381 - accuracy: 0.8503 - val_loss: 0.2921 - val_accuracy: 0.8748\n",
      "Epoch 23/25\n",
      "250/250 [==============================] - 57s 229ms/step - loss: 0.3470 - accuracy: 0.8430 - val_loss: 0.3178 - val_accuracy: 0.8604\n",
      "Epoch 24/25\n",
      "250/250 [==============================] - 54s 216ms/step - loss: 0.3342 - accuracy: 0.8520 - val_loss: 0.2792 - val_accuracy: 0.8786\n",
      "Epoch 25/25\n",
      "250/250 [==============================] - 53s 211ms/step - loss: 0.3194 - accuracy: 0.8579 - val_loss: 0.2581 - val_accuracy: 0.8903\n"
     ]
    },
    {
     "data": {
      "text/plain": [
       "<keras.callbacks.History at 0x2b1f168ff70>"
      ]
     },
     "execution_count": 17,
     "metadata": {},
     "output_type": "execute_result"
    }
   ],
   "source": [
    "cnn.fit(x = training_set, validation_data = test_set, epochs = 25)"
   ]
  },
  {
   "cell_type": "code",
   "execution_count": 31,
   "id": "7a523208",
   "metadata": {},
   "outputs": [],
   "source": [
    "import numpy as np\n",
    "import os\n",
    "import PIL\n",
    "import PIL.Image\n",
    "import tensorflow as tf"
   ]
  },
  {
   "cell_type": "code",
   "execution_count": 32,
   "id": "455c4bb5",
   "metadata": {},
   "outputs": [
    {
     "name": "stdout",
     "output_type": "stream",
     "text": [
      "2.9.1\n"
     ]
    }
   ],
   "source": [
    "print(tf.__version__)"
   ]
  },
  {
   "cell_type": "code",
   "execution_count": 41,
   "id": "d7ffe29e",
   "metadata": {},
   "outputs": [
    {
     "name": "stdout",
     "output_type": "stream",
     "text": [
      "1/1 [==============================] - 13s 13s/step\n"
     ]
    }
   ],
   "source": [
    "import numpy as np\n",
    "\n",
    "from keras.preprocessing import image\n",
    "test_image = keras.utils.image_utils.load_img('C:/Users/Akansha Vashisth/Downloads/CNN Dataset/single_prediction/cat_or_dog_1.jpg', target_size = (64, 64))\n",
    "test_image = keras.utils.image_utils.img_to_array(test_image)\n",
    "test_image = np.expand_dims(test_image, axis = 0)\n",
    "result = cnn.predict(test_image)\n",
    "training_set.class_indices\n",
    "if result[0][0] == 1:\n",
    "  prediction = 'dog'\n",
    "else:\n",
    "  prediction = 'cat'"
   ]
  },
  {
   "cell_type": "code",
   "execution_count": 42,
   "id": "376f715c",
   "metadata": {},
   "outputs": [
    {
     "name": "stdout",
     "output_type": "stream",
     "text": [
      "dog\n"
     ]
    }
   ],
   "source": [
    "print(prediction)"
   ]
  },
  {
   "cell_type": "code",
   "execution_count": 43,
   "id": "2c0f8b67",
   "metadata": {},
   "outputs": [
    {
     "name": "stdout",
     "output_type": "stream",
     "text": [
      "1/1 [==============================] - 0s 26ms/step\n"
     ]
    }
   ],
   "source": [
    "import numpy as np\n",
    "\n",
    "from keras.preprocessing import image\n",
    "test_image = keras.utils.image_utils.load_img('C:/Users/Akansha Vashisth/Downloads/CNN Dataset/single_prediction/cat_or_dog_2.jpg', target_size = (64, 64))\n",
    "test_image = keras.utils.image_utils.img_to_array(test_image)\n",
    "test_image = np.expand_dims(test_image, axis = 0)\n",
    "result = cnn.predict(test_image)\n",
    "training_set.class_indices\n",
    "if result[0][0] == 1:\n",
    "  prediction = 'dog'\n",
    "else:\n",
    "  prediction = 'cat'"
   ]
  },
  {
   "cell_type": "code",
   "execution_count": 44,
   "id": "85291729",
   "metadata": {},
   "outputs": [
    {
     "name": "stdout",
     "output_type": "stream",
     "text": [
      "cat\n"
     ]
    }
   ],
   "source": [
    "print(prediction)"
   ]
  },
  {
   "cell_type": "code",
   "execution_count": 45,
   "id": "496dfce9",
   "metadata": {},
   "outputs": [],
   "source": [
    "#used keras.utils.image_utils instead of image as it was giving attribute error"
   ]
  },
  {
   "cell_type": "code",
   "execution_count": 46,
   "id": "d0f55f13",
   "metadata": {},
   "outputs": [
    {
     "name": "stdout",
     "output_type": "stream",
     "text": [
      "1/1 [==============================] - 0s 28ms/step\n"
     ]
    }
   ],
   "source": [
    "import numpy as np\n",
    "\n",
    "from keras.preprocessing import image\n",
    "test_image = keras.utils.image_utils.load_img('C:/Users/Akansha Vashisth/Downloads/CNN Dataset/single_prediction/cat_or_dog_3.jpg', target_size = (64, 64))\n",
    "test_image = keras.utils.image_utils.img_to_array(test_image)\n",
    "test_image = np.expand_dims(test_image, axis = 0)\n",
    "result = cnn.predict(test_image)\n",
    "training_set.class_indices\n",
    "if result[0][0] == 1:\n",
    "  prediction = 'dog'\n",
    "else:\n",
    "  prediction = 'cat'"
   ]
  },
  {
   "cell_type": "code",
   "execution_count": 47,
   "id": "70583393",
   "metadata": {},
   "outputs": [
    {
     "name": "stdout",
     "output_type": "stream",
     "text": [
      "cat\n"
     ]
    }
   ],
   "source": [
    "print(prediction)"
   ]
  },
  {
   "cell_type": "code",
   "execution_count": 48,
   "id": "17f263d1",
   "metadata": {},
   "outputs": [],
   "source": [
    "#used keras.utils.image_utils instead of image as it was giving attribute error"
   ]
  },
  {
   "cell_type": "code",
   "execution_count": 49,
   "id": "011a621a",
   "metadata": {},
   "outputs": [
    {
     "name": "stdout",
     "output_type": "stream",
     "text": [
      "1/1 [==============================] - 0s 21ms/step\n"
     ]
    }
   ],
   "source": [
    "import numpy as np\n",
    "\n",
    "from keras.preprocessing import image\n",
    "test_image = keras.utils.image_utils.load_img('C:/Users/Akansha Vashisth/Downloads/CNN Dataset/single_prediction/cat_or_dog_4.jpg', target_size = (64, 64))\n",
    "test_image = keras.utils.image_utils.img_to_array(test_image)\n",
    "test_image = np.expand_dims(test_image, axis = 0)\n",
    "result = cnn.predict(test_image)\n",
    "training_set.class_indices\n",
    "if result[0][0] == 1:\n",
    "  prediction = 'dog'\n",
    "else:\n",
    "  prediction = 'cat'"
   ]
  },
  {
   "cell_type": "code",
   "execution_count": 50,
   "id": "0d14788f",
   "metadata": {},
   "outputs": [
    {
     "name": "stdout",
     "output_type": "stream",
     "text": [
      "dog\n"
     ]
    }
   ],
   "source": [
    "print(prediction)"
   ]
  },
  {
   "cell_type": "code",
   "execution_count": null,
   "id": "8d0a3aee",
   "metadata": {},
   "outputs": [],
   "source": []
  }
 ],
 "metadata": {
  "kernelspec": {
   "display_name": "Python 3 (ipykernel)",
   "language": "python",
   "name": "python3"
  },
  "language_info": {
   "codemirror_mode": {
    "name": "ipython",
    "version": 3
   },
   "file_extension": ".py",
   "mimetype": "text/x-python",
   "name": "python",
   "nbconvert_exporter": "python",
   "pygments_lexer": "ipython3",
   "version": "3.9.12"
  }
 },
 "nbformat": 4,
 "nbformat_minor": 5
}
